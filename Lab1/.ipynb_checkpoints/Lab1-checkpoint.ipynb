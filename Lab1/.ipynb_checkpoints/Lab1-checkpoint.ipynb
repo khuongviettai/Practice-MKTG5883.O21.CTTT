{
 "cells": [
  {
   "cell_type": "markdown",
   "id": "be829397-40d9-4512-997c-bfda0f7670a9",
   "metadata": {},
   "source": [
    "# Numbers"
   ]
  },
  {
   "cell_type": "code",
   "execution_count": null,
   "id": "2ca0e989-84be-4ed6-a83a-9a0f98dca139",
   "metadata": {},
   "outputs": [],
   "source": [
    "1 * 1"
   ]
  },
  {
   "cell_type": "code",
   "execution_count": null,
   "id": "490137be-0e92-47a2-b9f3-46ddf4538880",
   "metadata": {},
   "outputs": [],
   "source": [
    "1 * 3"
   ]
  },
  {
   "cell_type": "code",
   "execution_count": null,
   "id": "02e1a0e1-024f-4055-b73a-d34146ede49e",
   "metadata": {},
   "outputs": [],
   "source": [
    "1 / 2"
   ]
  },
  {
   "cell_type": "code",
   "execution_count": null,
   "id": "0ff5340f-e8ec-4114-94ec-a6667034a717",
   "metadata": {},
   "outputs": [],
   "source": [
    "2 ** 4"
   ]
  },
  {
   "cell_type": "code",
   "execution_count": null,
   "id": "e6a7fd4f-0e5d-49af-9b25-ccbe9856ddda",
   "metadata": {},
   "outputs": [],
   "source": [
    "4 % 2"
   ]
  },
  {
   "cell_type": "code",
   "execution_count": null,
   "id": "6b694af6-c4d7-42bd-b03c-eff30f24d524",
   "metadata": {},
   "outputs": [],
   "source": [
    "5 % 2"
   ]
  },
  {
   "cell_type": "code",
   "execution_count": null,
   "id": "9a1a2e14-54bf-4e92-a4ce-408deedea70c",
   "metadata": {},
   "outputs": [],
   "source": [
    "(2 + 3) * (5 + 5)"
   ]
  },
  {
   "cell_type": "markdown",
   "id": "5728aa6d-d025-4959-93eb-4b42612bd2be",
   "metadata": {},
   "source": [
    "# Variable assignment"
   ]
  },
  {
   "cell_type": "code",
   "execution_count": null,
   "id": "0e21cb1f-dc4d-48b6-8b30-f844d8da3f08",
   "metadata": {},
   "outputs": [],
   "source": [
    "name_of_var = 2"
   ]
  },
  {
   "cell_type": "code",
   "execution_count": null,
   "id": "7749c022-902d-4dc9-8dc4-85999b9b08a1",
   "metadata": {},
   "outputs": [],
   "source": [
    "x = 2\n",
    "y = 3"
   ]
  },
  {
   "cell_type": "code",
   "execution_count": null,
   "id": "6c5ccd8f-faeb-431b-94f6-2c03c4a65d9f",
   "metadata": {},
   "outputs": [],
   "source": [
    "z = x + y"
   ]
  },
  {
   "cell_type": "code",
   "execution_count": null,
   "id": "cc2bf680-d45d-41d2-8cea-4b1033416875",
   "metadata": {},
   "outputs": [],
   "source": [
    "z"
   ]
  },
  {
   "cell_type": "markdown",
   "id": "57bae693-e523-438f-bfba-dd6d3d806ce0",
   "metadata": {},
   "source": [
    "# Strings"
   ]
  },
  {
   "cell_type": "code",
   "execution_count": null,
   "id": "fa99589d-79ea-4af8-bcae-804d863bcc08",
   "metadata": {},
   "outputs": [],
   "source": [
    "'single_quotes'"
   ]
  },
  {
   "cell_type": "code",
   "execution_count": null,
   "id": "ee379978-0af8-4521-b37b-6ff5cf57d774",
   "metadata": {},
   "outputs": [],
   "source": [
    "\"double_quotes\""
   ]
  },
  {
   "cell_type": "code",
   "execution_count": null,
   "id": "5adaafab-f469-4819-99fb-5288c444e46e",
   "metadata": {},
   "outputs": [],
   "source": [
    "\" wrap lot's of other quotes\""
   ]
  },
  {
   "cell_type": "markdown",
   "id": "ce655ee3-b569-4042-a8c2-ad297ff8ae64",
   "metadata": {},
   "source": [
    "# Printing"
   ]
  },
  {
   "cell_type": "code",
   "execution_count": null,
   "id": "d373a057-e946-4849-af59-8c1e3c7ab4a8",
   "metadata": {},
   "outputs": [],
   "source": [
    "x = \"hello\""
   ]
  },
  {
   "cell_type": "code",
   "execution_count": null,
   "id": "ad5dcf49-364d-463c-9623-9103475f399d",
   "metadata": {},
   "outputs": [],
   "source": [
    "x"
   ]
  },
  {
   "cell_type": "code",
   "execution_count": null,
   "id": "92b46b62-f62d-42af-86f0-acedbd2421e1",
   "metadata": {},
   "outputs": [],
   "source": [
    "print(x)"
   ]
  },
  {
   "cell_type": "code",
   "execution_count": null,
   "id": "b40a17c5-e4b5-467e-8148-e0d83e8cb072",
   "metadata": {},
   "outputs": [],
   "source": [
    "num = 12"
   ]
  },
  {
   "cell_type": "code",
   "execution_count": null,
   "id": "0cfc24d6-c718-4276-88de-f0f6a8dd3460",
   "metadata": {},
   "outputs": [],
   "source": [
    "name = 'Sam'"
   ]
  },
  {
   "cell_type": "code",
   "execution_count": null,
   "id": "86849631-3867-4fc0-9a2f-47e32453fb2b",
   "metadata": {},
   "outputs": [],
   "source": [
    "print('My number is: {one}, and my name is: {two}'.format(one=12, two='Sam'))"
   ]
  },
  {
   "cell_type": "code",
   "execution_count": null,
   "id": "5cc62eee-bb38-4ea1-8f86-d1308d8db0b3",
   "metadata": {},
   "outputs": [],
   "source": [
    "print('My number is: {}, and my name is: {} '.format(num, name))"
   ]
  },
  {
   "cell_type": "markdown",
   "id": "9f491f08-935e-43c6-b068-504aeb9e305a",
   "metadata": {},
   "source": [
    "# Lists"
   ]
  },
  {
   "cell_type": "code",
   "execution_count": null,
   "id": "7ffa63dc-3b8a-4b34-8134-6c725c90995e",
   "metadata": {},
   "outputs": [],
   "source": [
    "[1,2,3]"
   ]
  },
  {
   "cell_type": "code",
   "execution_count": null,
   "id": "a28a9a81-fde9-4d54-8fec-b5bd2182baa7",
   "metadata": {},
   "outputs": [],
   "source": [
    "['hi', 1,2,3]"
   ]
  },
  {
   "cell_type": "code",
   "execution_count": null,
   "id": "b0848f40-5ed8-40b3-b073-c113f3f2ba04",
   "metadata": {},
   "outputs": [],
   "source": [
    "my_list = ['a', 'b', 'c']"
   ]
  },
  {
   "cell_type": "code",
   "execution_count": null,
   "id": "8129149e-3a95-4c68-ae31-93e7ccc6301b",
   "metadata": {},
   "outputs": [],
   "source": [
    "my_list.append('d')"
   ]
  },
  {
   "cell_type": "code",
   "execution_count": null,
   "id": "c1cf5220-7d6e-4dc6-8242-cc65d72bf255",
   "metadata": {},
   "outputs": [],
   "source": [
    "my_list"
   ]
  },
  {
   "cell_type": "code",
   "execution_count": null,
   "id": "755ac59e-cd87-447a-940f-5fc3743c4929",
   "metadata": {},
   "outputs": [],
   "source": [
    "my_list[0]"
   ]
  },
  {
   "cell_type": "code",
   "execution_count": null,
   "id": "afde5a7c-d520-499e-b53d-8efd2bbda52b",
   "metadata": {},
   "outputs": [],
   "source": [
    "my_list[1]"
   ]
  },
  {
   "cell_type": "code",
   "execution_count": null,
   "id": "0e8e3b34-c4ca-47ff-a76f-8b8952a5cebd",
   "metadata": {},
   "outputs": [],
   "source": [
    "my_list[1:]"
   ]
  },
  {
   "cell_type": "code",
   "execution_count": null,
   "id": "fe4fdbc9-1e7a-49b1-9c1e-d0090ecfe875",
   "metadata": {},
   "outputs": [],
   "source": [
    "my_list[:1]"
   ]
  },
  {
   "cell_type": "code",
   "execution_count": null,
   "id": "6bb1cfde-b1d9-4f9a-a0f3-1d2053b383c0",
   "metadata": {},
   "outputs": [],
   "source": [
    "my_list[0] = 'NEW'"
   ]
  },
  {
   "cell_type": "code",
   "execution_count": null,
   "id": "6f67fb05-e311-4189-8acd-770de101647b",
   "metadata": {},
   "outputs": [],
   "source": [
    "my_list"
   ]
  },
  {
   "cell_type": "code",
   "execution_count": null,
   "id": "13307003-8b87-4baa-aaf6-7b52ef0bc260",
   "metadata": {},
   "outputs": [],
   "source": [
    "nest = [1,2,3,[4,5 ['target']]]"
   ]
  },
  {
   "cell_type": "code",
   "execution_count": null,
   "id": "4b4cb115-f3a7-4a45-bdda-28c9e1252521",
   "metadata": {},
   "outputs": [],
   "source": [
    "nest[3]"
   ]
  },
  {
   "cell_type": "code",
   "execution_count": null,
   "id": "c7f154fe-eee2-4bc9-9064-1516e4857ea5",
   "metadata": {},
   "outputs": [],
   "source": [
    "nest[3][2]"
   ]
  },
  {
   "cell_type": "code",
   "execution_count": null,
   "id": "b00d64a4-9568-4b12-9087-da1aacf98454",
   "metadata": {},
   "outputs": [],
   "source": [
    "nest[3][2][0]"
   ]
  },
  {
   "cell_type": "markdown",
   "id": "9d598099-52b4-45e9-9a66-897c89166ffd",
   "metadata": {},
   "source": [
    "# Dictionaries"
   ]
  },
  {
   "cell_type": "code",
   "execution_count": null,
   "id": "8ef2f161-5e32-4e5a-b9c1-5337206bbc7f",
   "metadata": {},
   "outputs": [],
   "source": [
    "d = {'key1' : 'item1', 'key2':'item2'}"
   ]
  },
  {
   "cell_type": "code",
   "execution_count": null,
   "id": "69abfe9d-0bb3-4fae-95a1-a3c0015418e3",
   "metadata": {},
   "outputs": [],
   "source": [
    "d"
   ]
  },
  {
   "cell_type": "code",
   "execution_count": null,
   "id": "6a70b5a6-fe44-4333-8b7f-dc5bd2894b04",
   "metadata": {},
   "outputs": [],
   "source": [
    "d['key1']"
   ]
  },
  {
   "cell_type": "markdown",
   "id": "de3ac2d8-0ed5-4f90-aca3-faa62871c8e1",
   "metadata": {},
   "source": [
    "# Booleans"
   ]
  },
  {
   "cell_type": "code",
   "execution_count": null,
   "id": "217d1470-1f24-4638-8dbf-d369d0966240",
   "metadata": {},
   "outputs": [],
   "source": [
    "True"
   ]
  },
  {
   "cell_type": "code",
   "execution_count": null,
   "id": "cd0f8bb1-4510-4cb2-bfc1-b5bce39ed89f",
   "metadata": {},
   "outputs": [],
   "source": [
    "False"
   ]
  },
  {
   "cell_type": "code",
   "execution_count": null,
   "id": "19c6dd37-ef6d-4c4d-90ed-2f4cfb5b6900",
   "metadata": {},
   "outputs": [],
   "source": [
    "# Tuples"
   ]
  },
  {
   "cell_type": "code",
   "execution_count": null,
   "id": "6fda578a-1872-4480-a87c-28ae74c81dd2",
   "metadata": {},
   "outputs": [],
   "source": [
    "t = (1,2,3)"
   ]
  },
  {
   "cell_type": "code",
   "execution_count": null,
   "id": "0e3fb669-fd5a-40ad-9c46-01392e46b7b4",
   "metadata": {},
   "outputs": [],
   "source": [
    "t[0]"
   ]
  },
  {
   "cell_type": "code",
   "execution_count": null,
   "id": "084b63a7-47ad-4de0-9105-3d5c9e10d0d6",
   "metadata": {},
   "outputs": [],
   "source": [
    "t[0] = 'NEW'"
   ]
  },
  {
   "cell_type": "markdown",
   "id": "7f067c0a-00f7-4dfd-8af4-c804ed7c7989",
   "metadata": {},
   "source": [
    "# Sets"
   ]
  },
  {
   "cell_type": "code",
   "execution_count": null,
   "id": "c82c0616-250f-47e3-a7e2-dd1235436d9a",
   "metadata": {},
   "outputs": [],
   "source": [
    "{1,2,3}"
   ]
  },
  {
   "cell_type": "code",
   "execution_count": null,
   "id": "0777ceeb-bed6-4089-b33b-57aa951239da",
   "metadata": {},
   "outputs": [],
   "source": [
    "{1,2,3,1,2,1,2,3,3,3,3,2,2,2,1,1,2}"
   ]
  },
  {
   "cell_type": "markdown",
   "id": "28d9cef7-8986-474a-8d69-eb9cda0a4e87",
   "metadata": {},
   "source": [
    "# Comparison Operators"
   ]
  },
  {
   "cell_type": "code",
   "execution_count": null,
   "id": "61eb648b-ed56-4e3e-9bc4-218dbd1a3002",
   "metadata": {},
   "outputs": [],
   "source": [
    "1 > 2"
   ]
  },
  {
   "cell_type": "code",
   "execution_count": null,
   "id": "4abe93cd-782d-483c-9fbb-e321b53bcaa7",
   "metadata": {},
   "outputs": [],
   "source": [
    "1 < 2"
   ]
  },
  {
   "cell_type": "code",
   "execution_count": null,
   "id": "da9bbdfb-c480-41de-802b-7dbe4f097f49",
   "metadata": {},
   "outputs": [],
   "source": [
    "1 >= 1"
   ]
  },
  {
   "cell_type": "code",
   "execution_count": null,
   "id": "9aa278b2-d1e6-49f3-9139-626243732a98",
   "metadata": {},
   "outputs": [],
   "source": [
    "1 >= 4"
   ]
  },
  {
   "cell_type": "code",
   "execution_count": null,
   "id": "d052e82b-dfa2-49ca-ad3b-83963ca5e6f7",
   "metadata": {},
   "outputs": [],
   "source": [
    "1 == 1"
   ]
  },
  {
   "cell_type": "code",
   "execution_count": null,
   "id": "b26aa50c-edea-4efe-80d5-818e3db4d290",
   "metadata": {},
   "outputs": [],
   "source": [
    "'hi' == 'bye'"
   ]
  },
  {
   "cell_type": "markdown",
   "id": "b7f06702-d0d3-49ca-b632-ffafcaa3875a",
   "metadata": {},
   "source": [
    "# Logic Operators"
   ]
  },
  {
   "cell_type": "code",
   "execution_count": null,
   "id": "2651a8aa-f36b-4964-807f-2c2f5f8dc785",
   "metadata": {},
   "outputs": [],
   "source": [
    "(1 > 2) and (2 < 3)"
   ]
  },
  {
   "cell_type": "code",
   "execution_count": null,
   "id": "5a9151a7-7f10-4af0-a4a5-68a7b7e24be6",
   "metadata": {},
   "outputs": [],
   "source": [
    "(1 > 2) or (2 < 3)"
   ]
  },
  {
   "cell_type": "code",
   "execution_count": null,
   "id": "a37ccc48-2ead-4a64-80c4-5141b88fe044",
   "metadata": {},
   "outputs": [],
   "source": [
    "(1 == 2) or (2 == 3) or (4 == 4)"
   ]
  },
  {
   "cell_type": "markdown",
   "id": "ecc4eb84-2b88-4067-b1d9-8f94ed479560",
   "metadata": {},
   "source": [
    "# If, elseif, else Statement"
   ]
  },
  {
   "cell_type": "code",
   "execution_count": null,
   "id": "7a5c67c2-850c-47ed-89e0-079964eeb776",
   "metadata": {},
   "outputs": [],
   "source": [
    "if 1 < 2:\n",
    "    print('Yep!')"
   ]
  },
  {
   "cell_type": "code",
   "execution_count": null,
   "id": "b76bff41-06e3-4f05-9f2d-9bd83b1bb5ed",
   "metadata": {},
   "outputs": [],
   "source": [
    "if 1 < 2:\n",
    "    print('yep!')"
   ]
  },
  {
   "cell_type": "code",
   "execution_count": null,
   "id": "e4296af6-c1e1-42bb-9799-16916eaa6698",
   "metadata": {},
   "outputs": [],
   "source": [
    "if 1 < 2:\n",
    "    print('first')\n",
    "else: \n",
    "    print('last')"
   ]
  },
  {
   "cell_type": "code",
   "execution_count": null,
   "id": "608bd3d6-b621-4cf6-992d-0851499d69f1",
   "metadata": {},
   "outputs": [],
   "source": [
    "if 1 > 2:\n",
    "    print('first')\n",
    "else: \n",
    "    print('last')"
   ]
  },
  {
   "cell_type": "code",
   "execution_count": null,
   "id": "7eaf09d9-c166-442c-9794-8e75d69b8527",
   "metadata": {},
   "outputs": [],
   "source": [
    "if 1 == 2:\n",
    "    print('first')\n",
    "elif 3 == 3:\n",
    "    print('middle')\n",
    "else: \n",
    "    print('last')"
   ]
  },
  {
   "cell_type": "markdown",
   "id": "5719b827-126d-411f-bbd6-439097830f35",
   "metadata": {},
   "source": [
    "# For Loops"
   ]
  },
  {
   "cell_type": "code",
   "execution_count": null,
   "id": "5788075b-2c76-434c-bc47-9358ad12757b",
   "metadata": {},
   "outputs": [],
   "source": [
    "seq = [1,2,3,4,5]"
   ]
  },
  {
   "cell_type": "code",
   "execution_count": null,
   "id": "2081cc4e-3ea0-4a1e-93d9-6a691ec199da",
   "metadata": {},
   "outputs": [],
   "source": [
    "for item in seq:\n",
    "    print(item)"
   ]
  },
  {
   "cell_type": "code",
   "execution_count": null,
   "id": "4380c349-144d-4d47-917d-b7f251ea0d18",
   "metadata": {},
   "outputs": [],
   "source": [
    "for item in seq:\n",
    "    print('Yep')"
   ]
  },
  {
   "cell_type": "code",
   "execution_count": null,
   "id": "1ab82a04-9361-44f0-8627-51df743db710",
   "metadata": {},
   "outputs": [],
   "source": [
    "for jelly in seq:\n",
    "    print(jelly + jelly)"
   ]
  },
  {
   "cell_type": "markdown",
   "id": "b8bc24f2-0eb7-49e7-8686-49d4f99337a8",
   "metadata": {},
   "source": [
    "# While Loops"
   ]
  },
  {
   "cell_type": "code",
   "execution_count": null,
   "id": "6d61cfa2-8e44-43a6-946f-eb2a780c7fd4",
   "metadata": {},
   "outputs": [],
   "source": [
    "i = 1\n",
    "while i < 5:\n",
    "    print('i is: {}'.format(i))"
   ]
  },
  {
   "cell_type": "markdown",
   "id": "f0e6d4c9-e56e-41d3-8bc7-6fb1239380a4",
   "metadata": {},
   "source": [
    "# Range"
   ]
  },
  {
   "cell_type": "code",
   "execution_count": null,
   "id": "78ef819b-715c-4a53-88b3-06bbdc988b66",
   "metadata": {},
   "outputs": [],
   "source": [
    "range(5)"
   ]
  },
  {
   "cell_type": "code",
   "execution_count": null,
   "id": "29d9cc6c-4f69-475e-91f0-de1449456647",
   "metadata": {},
   "outputs": [],
   "source": [
    "for i in range(5):\n",
    "    print(i)"
   ]
  },
  {
   "cell_type": "code",
   "execution_count": null,
   "id": "1391f587-dadc-4160-ae1a-870bd9e6e844",
   "metadata": {},
   "outputs": [],
   "source": [
    "list(range(5))"
   ]
  },
  {
   "cell_type": "markdown",
   "id": "02937e42-183b-4e16-83d4-e2a6e47459c1",
   "metadata": {},
   "source": [
    "# List Comprehension"
   ]
  },
  {
   "cell_type": "code",
   "execution_count": null,
   "id": "6d25905f-61f1-46b3-8d2d-3ef14bf55cac",
   "metadata": {},
   "outputs": [],
   "source": [
    "x = [1,2,3,4]"
   ]
  },
  {
   "cell_type": "code",
   "execution_count": null,
   "id": "7b3a2e41-01b4-4bee-8c5f-ed6eacebf1ab",
   "metadata": {},
   "outputs": [],
   "source": [
    "out = []\n",
    "for item in x:\n",
    "    out.append(item**2)\n",
    "print(out)"
   ]
  },
  {
   "cell_type": "code",
   "execution_count": null,
   "id": "d386aca0-9764-4245-ad49-686324ad9322",
   "metadata": {},
   "outputs": [],
   "source": [
    "[item ** 2 for item in x]"
   ]
  },
  {
   "cell_type": "markdown",
   "id": "84e755dc-8db5-45a3-a2a1-603b6a9acec0",
   "metadata": {},
   "source": [
    "# Functions"
   ]
  },
  {
   "cell_type": "code",
   "execution_count": null,
   "id": "6dffa851-fcc2-43e1-8953-c62ff52cfb15",
   "metadata": {},
   "outputs": [],
   "source": [
    "def my_func (param1 = 'default');\n",
    "    \"\"\"\n",
    "    Docstring goes here.\n",
    "    \"\"\"\n",
    "    print(param1)"
   ]
  },
  {
   "cell_type": "code",
   "execution_count": null,
   "id": "fc1dff99-a05c-42b4-bc5a-e6911318489c",
   "metadata": {},
   "outputs": [],
   "source": [
    "my_func()"
   ]
  },
  {
   "cell_type": "code",
   "execution_count": null,
   "id": "b61b872f-6e49-47d5-a2ab-037eec86b465",
   "metadata": {},
   "outputs": [],
   "source": [
    "my_func('new param')"
   ]
  },
  {
   "cell_type": "code",
   "execution_count": null,
   "id": "812a2d6d-29a7-4af4-b7c5-0768c512e310",
   "metadata": {},
   "outputs": [],
   "source": [
    "def square(x):\n",
    "    return x ** 2"
   ]
  },
  {
   "cell_type": "code",
   "execution_count": null,
   "id": "27f1b92d-7f25-452e-a790-064fec9c94c7",
   "metadata": {},
   "outputs": [],
   "source": [
    "out = square(2)"
   ]
  },
  {
   "cell_type": "code",
   "execution_count": null,
   "id": "189de660-f2f4-4a0c-9c8b-acacc8fa8086",
   "metadata": {},
   "outputs": [],
   "source": [
    "print(out)"
   ]
  },
  {
   "cell_type": "markdown",
   "id": "6cf0b776-31f9-43bc-b111-371a612c952d",
   "metadata": {},
   "source": [
    "# Lambda expression"
   ]
  },
  {
   "cell_type": "code",
   "execution_count": null,
   "id": "6e96a4a7-6577-4825-8892-80bcf571bc75",
   "metadata": {},
   "outputs": [],
   "source": [
    "def times2(var):\n",
    "    return var*2"
   ]
  },
  {
   "cell_type": "code",
   "execution_count": null,
   "id": "5b4b0eb3-723f-4f49-a03e-d28208d3f895",
   "metadata": {},
   "outputs": [],
   "source": [
    "times2(2)"
   ]
  },
  {
   "cell_type": "code",
   "execution_count": null,
   "id": "50a92653-4afc-4f3e-8f4d-ce6a72ed133d",
   "metadata": {},
   "outputs": [],
   "source": [
    "lambda var : var * 2"
   ]
  },
  {
   "cell_type": "markdown",
   "id": "93e34152-c1ba-425b-9597-88f7d622e76d",
   "metadata": {},
   "source": [
    "# Map and filter"
   ]
  },
  {
   "cell_type": "code",
   "execution_count": null,
   "id": "b84f6276-702d-4cae-9b17-5bf79a3bf46a",
   "metadata": {},
   "outputs": [],
   "source": [
    "seq = [1,2,3,4,5]"
   ]
  },
  {
   "cell_type": "code",
   "execution_count": null,
   "id": "fbfe86c3-dba4-4eae-8254-8eb2e6ecfa1d",
   "metadata": {},
   "outputs": [],
   "source": [
    "map(times2, seq)"
   ]
  },
  {
   "cell_type": "code",
   "execution_count": null,
   "id": "3a499bc6-643c-4a27-b2d5-8b86b194fd41",
   "metadata": {},
   "outputs": [],
   "source": [
    "list(map(times2, seq))"
   ]
  },
  {
   "cell_type": "code",
   "execution_count": null,
   "id": "fb6a5ce5-3611-40ea-a105-58fb0e8ebfaf",
   "metadata": {},
   "outputs": [],
   "source": [
    "list(map(lambda var : var * 2, seq))"
   ]
  },
  {
   "cell_type": "code",
   "execution_count": null,
   "id": "b5c45195-95c4-41b5-ae12-7c35d6f5fea0",
   "metadata": {},
   "outputs": [],
   "source": [
    "filter(lambda( item : itiem % 2 == 0, seq)"
   ]
  },
  {
   "cell_type": "code",
   "execution_count": null,
   "id": "1fa5a037-36e4-454b-a4ae-2d24b0c34415",
   "metadata": {},
   "outputs": [],
   "source": [
    "list(filter(lambda item : item % 2 == 0, seq))"
   ]
  },
  {
   "cell_type": "markdown",
   "id": "03da730a-a21f-407d-a4dd-c3ed1257a722",
   "metadata": {},
   "source": [
    "# Methods"
   ]
  },
  {
   "cell_type": "code",
   "execution_count": null,
   "id": "8bcc42c7-2c45-45ef-afcb-595ded766d22",
   "metadata": {},
   "outputs": [],
   "source": [
    "st = 'hello my name is Sam'"
   ]
  },
  {
   "cell_type": "code",
   "execution_count": null,
   "id": "b440d6ff-b0b0-4e52-a68c-e14641d4408e",
   "metadata": {},
   "outputs": [],
   "source": [
    "st.lower()"
   ]
  },
  {
   "cell_type": "code",
   "execution_count": null,
   "id": "edd52bce-d7d6-48cb-b9e1-6fb8ee6a36a7",
   "metadata": {},
   "outputs": [],
   "source": [
    "st.upper()"
   ]
  },
  {
   "cell_type": "code",
   "execution_count": null,
   "id": "4b27c0e3-7982-4b86-b6b6-c75fdffc36aa",
   "metadata": {},
   "outputs": [],
   "source": [
    "st.split()"
   ]
  },
  {
   "cell_type": "code",
   "execution_count": null,
   "id": "5c29ce1d-bc2e-4850-b012-4fad56ca8c37",
   "metadata": {},
   "outputs": [],
   "source": [
    "tweet = 'Go Sport! #Sport'"
   ]
  },
  {
   "cell_type": "code",
   "execution_count": null,
   "id": "f6d4dd84-57f7-4a5f-8dce-d258499bb490",
   "metadata": {},
   "outputs": [],
   "source": [
    "tweet.split(#)"
   ]
  },
  {
   "cell_type": "code",
   "execution_count": null,
   "id": "4a666ced-1d23-498a-9014-88ee8f636465",
   "metadata": {},
   "outputs": [],
   "source": [
    "tweet.slip('#')[1]"
   ]
  },
  {
   "cell_type": "code",
   "execution_count": null,
   "id": "57073cae-4d1b-4928-a0fb-12bb1e3f51b4",
   "metadata": {},
   "outputs": [],
   "source": [
    "d"
   ]
  },
  {
   "cell_type": "code",
   "execution_count": null,
   "id": "f62e7b50-f8de-483a-83fa-b992fd70134d",
   "metadata": {},
   "outputs": [],
   "source": [
    "d.keys()"
   ]
  },
  {
   "cell_type": "code",
   "execution_count": null,
   "id": "19c7ba6b-a70c-47f9-b3ac-9fd3d79a074f",
   "metadata": {},
   "outputs": [],
   "source": [
    "d.items()"
   ]
  },
  {
   "cell_type": "code",
   "execution_count": null,
   "id": "2b1b48ac-e3b5-43ea-884c-d827c489d610",
   "metadata": {},
   "outputs": [],
   "source": [
    "lst = [1,2,3]"
   ]
  },
  {
   "cell_type": "code",
   "execution_count": null,
   "id": "e1d86087-68bf-4afe-8245-1c3da70f817d",
   "metadata": {},
   "outputs": [],
   "source": [
    "lst.pop()"
   ]
  },
  {
   "cell_type": "code",
   "execution_count": null,
   "id": "dc065401-e63b-4f4a-a524-1fcc0dad2f63",
   "metadata": {},
   "outputs": [],
   "source": [
    "lst"
   ]
  },
  {
   "cell_type": "code",
   "execution_count": null,
   "id": "c2f4d652-3db0-4f77-ab05-0752604ebdde",
   "metadata": {},
   "outputs": [],
   "source": [
    "'x' in [1,2,3]"
   ]
  },
  {
   "cell_type": "code",
   "execution_count": null,
   "id": "e7da66c0-0682-4a33-b5ee-91d11f724b9f",
   "metadata": {},
   "outputs": [],
   "source": [
    "'x' in 'x,y,z'"
   ]
  },
  {
   "cell_type": "markdown",
   "id": "ec76d931-3080-4ae9-b976-a58493576d4a",
   "metadata": {},
   "source": [
    "# Python basics – Exercises"
   ]
  },
  {
   "cell_type": "code",
   "execution_count": 1,
   "id": "8551a70b-3b8e-40cf-90c3-67788a67f050",
   "metadata": {},
   "outputs": [
    {
     "data": {
      "text/plain": [
       "2401"
      ]
     },
     "execution_count": 1,
     "metadata": {},
     "output_type": "execute_result"
    }
   ],
   "source": [
    "# what is 7 to the power of 4\n",
    "7 ** 4"
   ]
  },
  {
   "cell_type": "code",
   "execution_count": 3,
   "id": "2f232bbc-32d2-4667-b8c1-739d7501cb3a",
   "metadata": {},
   "outputs": [],
   "source": [
    "# split this string\n",
    " #   s = \"Hi there Sam\"\n",
    "s = \"Hi there Sam\"\n",
    "result = s.replace(\"Sam\", \"dad!\").split()"
   ]
  },
  {
   "cell_type": "code",
   "execution_count": 4,
   "id": "1d6d7b1f-5e43-4fda-a22f-a072c817e59f",
   "metadata": {},
   "outputs": [
    {
     "data": {
      "text/plain": [
       "['Hi', 'there', 'dad!']"
      ]
     },
     "execution_count": 4,
     "metadata": {},
     "output_type": "execute_result"
    }
   ],
   "source": [
    "result"
   ]
  },
  {
   "cell_type": "code",
   "execution_count": 6,
   "id": "b677fae6-e658-41b8-885c-70a2227d6d43",
   "metadata": {},
   "outputs": [],
   "source": [
    "# user .format()\n",
    "\n",
    "planet = \"Earth\"\n",
    "diameter = 12742"
   ]
  },
  {
   "cell_type": "code",
   "execution_count": 7,
   "id": "9cdb0339-74c4-45a8-8af0-ad4a3239a036",
   "metadata": {},
   "outputs": [
    {
     "name": "stdout",
     "output_type": "stream",
     "text": [
      "The diameter of Earth is 12742 kilometers\n"
     ]
    }
   ],
   "source": [
    "print('The diameter of {} is {} kilometers'.format(planet, diameter))"
   ]
  },
  {
   "cell_type": "code",
   "execution_count": null,
   "id": "05e36b95-d11a-433e-904f-91817382d82f",
   "metadata": {},
   "outputs": [],
   "source": []
  }
 ],
 "metadata": {
  "kernelspec": {
   "display_name": "Python 3 (ipykernel)",
   "language": "python",
   "name": "python3"
  },
  "language_info": {
   "codemirror_mode": {
    "name": "ipython",
    "version": 3
   },
   "file_extension": ".py",
   "mimetype": "text/x-python",
   "name": "python",
   "nbconvert_exporter": "python",
   "pygments_lexer": "ipython3",
   "version": "3.12.2"
  }
 },
 "nbformat": 4,
 "nbformat_minor": 5
}
